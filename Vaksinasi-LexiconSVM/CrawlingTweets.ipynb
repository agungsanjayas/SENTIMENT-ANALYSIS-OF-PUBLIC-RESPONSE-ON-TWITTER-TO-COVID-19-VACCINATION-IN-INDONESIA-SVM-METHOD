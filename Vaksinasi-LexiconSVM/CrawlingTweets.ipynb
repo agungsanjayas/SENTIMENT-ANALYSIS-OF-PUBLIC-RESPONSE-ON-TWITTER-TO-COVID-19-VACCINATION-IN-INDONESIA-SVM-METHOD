{
 "cells": [
  {
   "cell_type": "markdown",
   "id": "exclusive-demographic",
   "metadata": {},
   "source": [
    "# Crawl Data Tweets"
   ]
  },
  {
   "cell_type": "code",
   "execution_count": 1,
   "id": "concrete-characterization",
   "metadata": {},
   "outputs": [],
   "source": [
    "import tweepy\n",
    "import csv\n",
    "import pandas as pd"
   ]
  },
  {
   "cell_type": "code",
   "execution_count": 2,
   "id": "behavioral-string",
   "metadata": {},
   "outputs": [],
   "source": [
    "api_key = \"ydv0UGpnGwrhj4cJOjgBKI2Qj\"\n",
    "api_secrete_key = \"VrKFQwjMjc9fI9Qh6QwMDKIUbX4pM6ve2ot6KOuFeqW3WbynNj\"\n",
    "access_token = \"369302649-Ka7RHWGYCDYC2CzpZxJKUUl5RWfxy8d8TAmaDhLv\"\n",
    "access_token_secret = \"2hj8eDRb9kSlia3Cb73y0CoKNPIP5pVpP47Uu361jfmH2\""
   ]
  },
  {
   "cell_type": "code",
   "execution_count": 3,
   "id": "intended-capture",
   "metadata": {},
   "outputs": [],
   "source": [
    "auth = tweepy.OAuthHandler(api_key, api_secrete_key)\n",
    "auth.set_access_token(access_token, access_token_secret)\n",
    "api =tweepy.API(auth,wait_on_rate_limit=True,wait_on_rate_limit_notify=True)"
   ]
  },
  {
   "cell_type": "code",
   "execution_count": 8,
   "id": "single-district",
   "metadata": {},
   "outputs": [],
   "source": [
    "search_key1 = 'vaksinasi' \n",
    "search_key2 = 'vaksin'\n",
    "search_key3 = 'sinovac' \n",
    "search_key4 = 'astrazeneca'\n",
    "\n",
    "count = 1010\n",
    "\n",
    "with open(r'C:\\WPy64-3880\\notebooks\\AnalisisSentimen_VaksinasiSVM\\vaksinasi12.csv', \n",
    "          'w', encoding='utf-8') as file:\n",
    "    w = csv.writer(file)\n",
    "    for tweet in tweepy.Cursor(api.search, q=(search_key1 or search_key2 or search_key3 or search_key4) \n",
    "                               + ' -filter:retweets', lang=\"id\", tweet_mode=\"extended\").items(count):\n",
    "        w.writerow([tweet.created_at, tweet.user.name, tweet.full_text.replace('\\n',' ')])\n",
    "\n",
    "# for tweet in tweepy.Cursor(api.search, q=(search_key1 or search_key2 or search_key3 or search_key4), \n",
    "#                            location=\"indonesia, ID\", lang=\"id\", tweet_mode=\"extended\").items(count):\n",
    "#     print(tweet.created_at, tweet.user.name, tweet.full_text)\n",
    "#     date.append(tweet.created_at)\n",
    "#     username.append(tweet.user.name)\n",
    "#     tweets.append(tweet.full_text)"
   ]
  },
  {
   "cell_type": "code",
   "execution_count": null,
   "id": "fifth-explosion",
   "metadata": {},
   "outputs": [],
   "source": []
  },
  {
   "cell_type": "code",
   "execution_count": null,
   "id": "latin-fifty",
   "metadata": {},
   "outputs": [],
   "source": []
  },
  {
   "cell_type": "code",
   "execution_count": null,
   "id": "auburn-explanation",
   "metadata": {},
   "outputs": [],
   "source": []
  },
  {
   "cell_type": "code",
   "execution_count": null,
   "id": "wrapped-miller",
   "metadata": {},
   "outputs": [],
   "source": []
  }
 ],
 "metadata": {
  "kernelspec": {
   "display_name": "Python 3",
   "language": "python",
   "name": "python3"
  },
  "language_info": {
   "codemirror_mode": {
    "name": "ipython",
    "version": 3
   },
   "file_extension": ".py",
   "mimetype": "text/x-python",
   "name": "python",
   "nbconvert_exporter": "python",
   "pygments_lexer": "ipython3",
   "version": "3.8.8"
  }
 },
 "nbformat": 4,
 "nbformat_minor": 5
}
